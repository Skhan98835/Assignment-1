{
 "cells": [
  {
   "cell_type": "code",
   "execution_count": 1,
   "id": "d95273a5-1689-45ea-9b8a-77e8bbc8183b",
   "metadata": {},
   "outputs": [],
   "source": [
    "##Q1. Create one variable containing following type of data:"
   ]
  },
  {
   "cell_type": "code",
   "execution_count": 2,
   "id": "c2ffb864-0799-410b-860c-07caf3c4acaa",
   "metadata": {},
   "outputs": [],
   "source": [
    "s= \"shahbaz\""
   ]
  },
  {
   "cell_type": "code",
   "execution_count": 3,
   "id": "26500c28-70c6-4552-8781-e11451a12694",
   "metadata": {},
   "outputs": [
    {
     "data": {
      "text/plain": [
       "'shahbaz'"
      ]
     },
     "execution_count": 3,
     "metadata": {},
     "output_type": "execute_result"
    }
   ],
   "source": [
    "s"
   ]
  },
  {
   "cell_type": "code",
   "execution_count": 8,
   "id": "12a561a0-4af4-47a7-a5c0-8b3103ce34c9",
   "metadata": {},
   "outputs": [
    {
     "data": {
      "text/plain": [
       "str"
      ]
     },
     "execution_count": 8,
     "metadata": {},
     "output_type": "execute_result"
    }
   ],
   "source": [
    "type(s)"
   ]
  },
  {
   "cell_type": "code",
   "execution_count": 9,
   "id": "33e89c19-9237-4b9e-b4af-c4ed69ff6df3",
   "metadata": {},
   "outputs": [],
   "source": [
    "a = [1,2,3,4,5, \"shah\", 12.52, True]"
   ]
  },
  {
   "cell_type": "code",
   "execution_count": 10,
   "id": "f90bdb54-2668-4732-90ff-cee34879fd00",
   "metadata": {},
   "outputs": [
    {
     "data": {
      "text/plain": [
       "[1, 2, 3, 4, 5, 'shah', 12.52, True]"
      ]
     },
     "execution_count": 10,
     "metadata": {},
     "output_type": "execute_result"
    }
   ],
   "source": [
    "a"
   ]
  },
  {
   "cell_type": "code",
   "execution_count": 11,
   "id": "5372ac75-5366-411c-94de-baa9c50785f6",
   "metadata": {},
   "outputs": [
    {
     "data": {
      "text/plain": [
       "list"
      ]
     },
     "execution_count": 11,
     "metadata": {},
     "output_type": "execute_result"
    }
   ],
   "source": [
    "type(a)"
   ]
  },
  {
   "cell_type": "code",
   "execution_count": 18,
   "id": "77f95ddc-c3f9-498c-a901-271308d07aae",
   "metadata": {},
   "outputs": [],
   "source": [
    "x = (132.5)"
   ]
  },
  {
   "cell_type": "code",
   "execution_count": 19,
   "id": "5bf9c152-79e9-4215-b9d1-47d150131719",
   "metadata": {},
   "outputs": [
    {
     "data": {
      "text/plain": [
       "float"
      ]
     },
     "execution_count": 19,
     "metadata": {},
     "output_type": "execute_result"
    }
   ],
   "source": [
    "type(x)"
   ]
  },
  {
   "cell_type": "code",
   "execution_count": 30,
   "id": "5682136f-16c0-429e-8fa8-4518164db616",
   "metadata": {},
   "outputs": [],
   "source": [
    "g = (123.4, 45, \"shah\", [1,2,3,4,5])"
   ]
  },
  {
   "cell_type": "code",
   "execution_count": 31,
   "id": "d46411c2-48b5-4127-a39a-75c96abda602",
   "metadata": {},
   "outputs": [
    {
     "data": {
      "text/plain": [
       "tuple"
      ]
     },
     "execution_count": 31,
     "metadata": {},
     "output_type": "execute_result"
    }
   ],
   "source": [
    "type(g)"
   ]
  },
  {
   "cell_type": "code",
   "execution_count": null,
   "id": "b6c1f9e1-4b93-41d1-a029-574ccc1285dd",
   "metadata": {},
   "outputs": [],
   "source": [
    "#Q2. Given are some following variables containing data:"
   ]
  },
  {
   "cell_type": "code",
   "execution_count": 32,
   "id": "b8abbad2-c101-451b-b8a3-728905de4d72",
   "metadata": {},
   "outputs": [],
   "source": [
    "var1= ''"
   ]
  },
  {
   "cell_type": "code",
   "execution_count": 33,
   "id": "a30a1c0f-b0bd-4ba1-881f-af58ae4e900d",
   "metadata": {},
   "outputs": [
    {
     "data": {
      "text/plain": [
       "str"
      ]
     },
     "execution_count": 33,
     "metadata": {},
     "output_type": "execute_result"
    }
   ],
   "source": [
    "type(var1)"
   ]
  },
  {
   "cell_type": "code",
   "execution_count": 39,
   "id": "2e80f5f2-7250-43a6-ad70-3ff8bae593e3",
   "metadata": {},
   "outputs": [],
   "source": [
    "var2 = ‘[ DS , ML , Python]’"
   ]
  },
  {
   "cell_type": "code",
   "execution_count": 40,
   "id": "63cf30a1-68d2-44cb-a658-9a2df35faf93",
   "metadata": {},
   "outputs": [
    {
     "data": {
      "text/plain": [
       "list"
      ]
     },
     "execution_count": 40,
     "metadata": {},
     "output_type": "execute_result"
    }
   ],
   "source": [
    "type(var2)"
   ]
  },
  {
   "cell_type": "code",
   "execution_count": 49,
   "id": "7c37681b-7946-4e2d-a44b-6fbb4de25b52",
   "metadata": {},
   "outputs": [],
   "source": [
    "var3 = ['DS', 'ML', 'Phython']"
   ]
  },
  {
   "cell_type": "code",
   "execution_count": 50,
   "id": "f6bd844f-a122-4335-a0c4-bda75d71c5f6",
   "metadata": {},
   "outputs": [
    {
     "data": {
      "text/plain": [
       "list"
      ]
     },
     "execution_count": 50,
     "metadata": {},
     "output_type": "execute_result"
    }
   ],
   "source": [
    "type(var3)"
   ]
  },
  {
   "cell_type": "code",
   "execution_count": 51,
   "id": "dc62a1b5-976f-4316-99cd-8490361417a6",
   "metadata": {},
   "outputs": [],
   "source": [
    "var4 = 1"
   ]
  },
  {
   "cell_type": "code",
   "execution_count": 52,
   "id": "6d332d8d-833d-4792-8ff2-86fbf73ebaa0",
   "metadata": {},
   "outputs": [
    {
     "data": {
      "text/plain": [
       "int"
      ]
     },
     "execution_count": 52,
     "metadata": {},
     "output_type": "execute_result"
    }
   ],
   "source": [
    "type(var4)"
   ]
  },
  {
   "cell_type": "code",
   "execution_count": 54,
   "id": "89260fb0-d6c5-4441-8c70-af9dbc3a824d",
   "metadata": {},
   "outputs": [
    {
     "ename": "SyntaxError",
     "evalue": "incomplete input (734329655.py, line 5)",
     "output_type": "error",
     "traceback": [
      "\u001b[0;36m  Cell \u001b[0;32mIn[54], line 5\u001b[0;36m\u001b[0m\n\u001b[0;31m    #(iv) ** = Power\u001b[0m\n\u001b[0m                    ^\u001b[0m\n\u001b[0;31mSyntaxError\u001b[0m\u001b[0;31m:\u001b[0m incomplete input\n"
     ]
    }
   ],
   "source": [
    "#Q3. Explain the use of the following operators using an example:\n",
    "#(i) / = Division\n",
    "(#ii) % = Modulo\n",
    "#(iii) // = Floor Division\n",
    "#(iv) ** = Power"
   ]
  },
  {
   "cell_type": "code",
   "execution_count": 62,
   "id": "369f5068-b463-4311-bebe-680c5bd96a8b",
   "metadata": {},
   "outputs": [
    {
     "name": "stdout",
     "output_type": "stream",
     "text": [
      "apple\n",
      "banana\n",
      "cherry\n"
     ]
    }
   ],
   "source": [
    "fruits = [\"apple\", \"banana\", \"cherry\"]\n",
    "for x in fruits:\n",
    "  print(x)"
   ]
  },
  {
   "cell_type": "code",
   "execution_count": 67,
   "id": "cd7b8d04-3a56-4972-bb93-1222de6a15f9",
   "metadata": {},
   "outputs": [
    {
     "name": "stdout",
     "output_type": "stream",
     "text": [
      "1\n",
      "2\n",
      "3\n",
      "4\n",
      "5\n",
      "6\n",
      "7\n",
      "8\n"
     ]
    }
   ],
   "source": [
    "s1 = [1, 2, 3, 4, 5, 6, 7, 8]\n",
    "for x in s1:\n",
    "    print(x)"
   ]
  },
  {
   "cell_type": "code",
   "execution_count": 76,
   "id": "29e9c9cc-f802-4bf2-bda6-9096d98818c7",
   "metadata": {},
   "outputs": [
    {
     "name": "stdout",
     "output_type": "stream",
     "text": [
      "3\n",
      "6\n",
      "9\n",
      "12\n",
      "15\n",
      "18\n",
      "21\n",
      "24\n"
     ]
    }
   ],
   "source": [
    "s2 = [1, 2, 3, 4, 5, 6, 7, 8,9,10,11,12,13,14,15,16,17,18,19,20,21,22,23,24,25]\n",
    "for x in s2:\n",
    "    if x % 3 == 0:\n",
    "        print(x)"
   ]
  },
  {
   "cell_type": "code",
   "execution_count": null,
   "id": "fbad416e-fa23-4713-8199-61e3b162732e",
   "metadata": {},
   "outputs": [],
   "source": [
    "#A mutable object can be changed after it is created\tAn immutable object cannot be changed after it is created\n",
    "#Examples : List, Set, Dictionary\n",
    "\n",
    "#An immutable object cannot be changed after it is created\n",
    "#Exg: tuples, int, float, bool"
   ]
  },
  {
   "cell_type": "code",
   "execution_count": 78,
   "id": "4ce0789f-0ff7-45ba-8352-c890742b035e",
   "metadata": {},
   "outputs": [],
   "source": [
    "#Create a list of length 10 of your choice containing multiple types of data. Using for loop print the\n",
    "#element and its data type.\n",
    "\n"
   ]
  },
  {
   "cell_type": "code",
   "execution_count": 79,
   "id": "d2105e87-4880-4a5e-983b-a0c21cd0ecb3",
   "metadata": {},
   "outputs": [
    {
     "ename": "SyntaxError",
     "evalue": "Missing parentheses in call to 'print'. Did you mean print(...)? (3808661359.py, line 3)",
     "output_type": "error",
     "traceback": [
      "\u001b[0;36m  Cell \u001b[0;32mIn[79], line 3\u001b[0;36m\u001b[0m\n\u001b[0;31m    print x\u001b[0m\n\u001b[0m    ^\u001b[0m\n\u001b[0;31mSyntaxError\u001b[0m\u001b[0;31m:\u001b[0m Missing parentheses in call to 'print'. Did you mean print(...)?\n"
     ]
    }
   ],
   "source": [
    "s3 = [1,2,3, \"shahbaz\", 12.34,True]\n",
    "for x in s3:\n",
    "    print x"
   ]
  },
  {
   "cell_type": "code",
   "execution_count": null,
   "id": "db0b967c-206d-47e2-a116-356f912d40ac",
   "metadata": {},
   "outputs": [],
   "source": []
  }
 ],
 "metadata": {
  "kernelspec": {
   "display_name": "Python 3 (ipykernel)",
   "language": "python",
   "name": "python3"
  },
  "language_info": {
   "codemirror_mode": {
    "name": "ipython",
    "version": 3
   },
   "file_extension": ".py",
   "mimetype": "text/x-python",
   "name": "python",
   "nbconvert_exporter": "python",
   "pygments_lexer": "ipython3",
   "version": "3.10.8"
  }
 },
 "nbformat": 4,
 "nbformat_minor": 5
}
